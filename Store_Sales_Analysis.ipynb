{
 "cells": [
  {
   "cell_type": "code",
   "execution_count": 130,
   "id": "7fc6e04a-d90e-46d2-af40-632c60fc1d17",
   "metadata": {},
   "outputs": [
    {
     "name": "stdout",
     "output_type": "stream",
     "text": [
      "C:/Users/Khushi Gangrade/Desktop/asu/dm/store-sales-time-series-forecasting/.gitignore.txt\n",
      "C:/Users/Khushi Gangrade/Desktop/asu/dm/store-sales-time-series-forecasting/Changed_train.csv\n",
      "C:/Users/Khushi Gangrade/Desktop/asu/dm/store-sales-time-series-forecasting/holidays_events.csv\n",
      "C:/Users/Khushi Gangrade/Desktop/asu/dm/store-sales-time-series-forecasting/oil.csv\n",
      "C:/Users/Khushi Gangrade/Desktop/asu/dm/store-sales-time-series-forecasting/Oil_Changed.csv\n",
      "C:/Users/Khushi Gangrade/Desktop/asu/dm/store-sales-time-series-forecasting/sample_submission.csv\n",
      "C:/Users/Khushi Gangrade/Desktop/asu/dm/store-sales-time-series-forecasting/stores.csv\n",
      "C:/Users/Khushi Gangrade/Desktop/asu/dm/store-sales-time-series-forecasting/Store_Sales_Analysis.ipynb\n",
      "C:/Users/Khushi Gangrade/Desktop/asu/dm/store-sales-time-series-forecasting/Store_Sales_Forcasting.ipynb\n",
      "C:/Users/Khushi Gangrade/Desktop/asu/dm/store-sales-time-series-forecasting/test.csv\n",
      "C:/Users/Khushi Gangrade/Desktop/asu/dm/store-sales-time-series-forecasting/train.csv\n",
      "C:/Users/Khushi Gangrade/Desktop/asu/dm/store-sales-time-series-forecasting/transactions.csv\n",
      "C:/Users/Khushi Gangrade/Desktop/asu/dm/store-sales-time-series-forecasting/.git\\COMMIT_EDITMSG\n",
      "C:/Users/Khushi Gangrade/Desktop/asu/dm/store-sales-time-series-forecasting/.git\\config\n",
      "C:/Users/Khushi Gangrade/Desktop/asu/dm/store-sales-time-series-forecasting/.git\\description\n",
      "C:/Users/Khushi Gangrade/Desktop/asu/dm/store-sales-time-series-forecasting/.git\\HEAD\n",
      "C:/Users/Khushi Gangrade/Desktop/asu/dm/store-sales-time-series-forecasting/.git\\index\n",
      "C:/Users/Khushi Gangrade/Desktop/asu/dm/store-sales-time-series-forecasting/.git\\hooks\\applypatch-msg.sample\n",
      "C:/Users/Khushi Gangrade/Desktop/asu/dm/store-sales-time-series-forecasting/.git\\hooks\\commit-msg.sample\n",
      "C:/Users/Khushi Gangrade/Desktop/asu/dm/store-sales-time-series-forecasting/.git\\hooks\\fsmonitor-watchman.sample\n",
      "C:/Users/Khushi Gangrade/Desktop/asu/dm/store-sales-time-series-forecasting/.git\\hooks\\post-update.sample\n",
      "C:/Users/Khushi Gangrade/Desktop/asu/dm/store-sales-time-series-forecasting/.git\\hooks\\pre-applypatch.sample\n",
      "C:/Users/Khushi Gangrade/Desktop/asu/dm/store-sales-time-series-forecasting/.git\\hooks\\pre-commit.sample\n",
      "C:/Users/Khushi Gangrade/Desktop/asu/dm/store-sales-time-series-forecasting/.git\\hooks\\pre-merge-commit.sample\n",
      "C:/Users/Khushi Gangrade/Desktop/asu/dm/store-sales-time-series-forecasting/.git\\hooks\\pre-push.sample\n",
      "C:/Users/Khushi Gangrade/Desktop/asu/dm/store-sales-time-series-forecasting/.git\\hooks\\pre-rebase.sample\n",
      "C:/Users/Khushi Gangrade/Desktop/asu/dm/store-sales-time-series-forecasting/.git\\hooks\\pre-receive.sample\n",
      "C:/Users/Khushi Gangrade/Desktop/asu/dm/store-sales-time-series-forecasting/.git\\hooks\\prepare-commit-msg.sample\n",
      "C:/Users/Khushi Gangrade/Desktop/asu/dm/store-sales-time-series-forecasting/.git\\hooks\\push-to-checkout.sample\n",
      "C:/Users/Khushi Gangrade/Desktop/asu/dm/store-sales-time-series-forecasting/.git\\hooks\\sendemail-validate.sample\n",
      "C:/Users/Khushi Gangrade/Desktop/asu/dm/store-sales-time-series-forecasting/.git\\hooks\\update.sample\n",
      "C:/Users/Khushi Gangrade/Desktop/asu/dm/store-sales-time-series-forecasting/.git\\info\\exclude\n",
      "C:/Users/Khushi Gangrade/Desktop/asu/dm/store-sales-time-series-forecasting/.git\\logs\\HEAD\n",
      "C:/Users/Khushi Gangrade/Desktop/asu/dm/store-sales-time-series-forecasting/.git\\logs\\refs\\heads\\master\n",
      "C:/Users/Khushi Gangrade/Desktop/asu/dm/store-sales-time-series-forecasting/.git\\objects\\0f\\0866730eea2c5b737fda0d77470daae35a27fc\n",
      "C:/Users/Khushi Gangrade/Desktop/asu/dm/store-sales-time-series-forecasting/.git\\objects\\2f\\51a18572e2337548e9d941c0f012f89cb11073\n",
      "C:/Users/Khushi Gangrade/Desktop/asu/dm/store-sales-time-series-forecasting/.git\\objects\\38\\900d436747abe0ecd15b01b0ba3c57bff3a72d\n",
      "C:/Users/Khushi Gangrade/Desktop/asu/dm/store-sales-time-series-forecasting/.git\\objects\\41\\aa9eb0be0093d7436d32c2e20543f05abf9052\n",
      "C:/Users/Khushi Gangrade/Desktop/asu/dm/store-sales-time-series-forecasting/.git\\objects\\60\\2a722ee472dd40c708a1ce4dd54b947251948b\n",
      "C:/Users/Khushi Gangrade/Desktop/asu/dm/store-sales-time-series-forecasting/.git\\objects\\72\\2bfde32234c6f4b01472ab501994ab202e4d20\n",
      "C:/Users/Khushi Gangrade/Desktop/asu/dm/store-sales-time-series-forecasting/.git\\objects\\72\\fa532f19edcdfe3157fd21711608d132ccd573\n",
      "C:/Users/Khushi Gangrade/Desktop/asu/dm/store-sales-time-series-forecasting/.git\\objects\\93\\ad675ab4ded5e86774a530f4476a486cefffe3\n",
      "C:/Users/Khushi Gangrade/Desktop/asu/dm/store-sales-time-series-forecasting/.git\\objects\\a1\\304b37d0901557dcea154367ff946756230248\n",
      "C:/Users/Khushi Gangrade/Desktop/asu/dm/store-sales-time-series-forecasting/.git\\objects\\a7\\3d3f4cabbff95a5320c2105c3778b1b6413c4a\n",
      "C:/Users/Khushi Gangrade/Desktop/asu/dm/store-sales-time-series-forecasting/.git\\objects\\ab\\8661ec48e0dfd90705c3a9e5238b20ef825d41\n",
      "C:/Users/Khushi Gangrade/Desktop/asu/dm/store-sales-time-series-forecasting/.git\\objects\\cf\\1ea8014739e0a62bbf46c5f58ad52f9a694203\n",
      "C:/Users/Khushi Gangrade/Desktop/asu/dm/store-sales-time-series-forecasting/.git\\objects\\e5\\6066e9b7e97c0ecdfb85adf719a87e35744ee1\n",
      "C:/Users/Khushi Gangrade/Desktop/asu/dm/store-sales-time-series-forecasting/.git\\objects\\ee\\2bded19f0ae7a4bf15e9bb0098da6fa3494b94\n",
      "C:/Users/Khushi Gangrade/Desktop/asu/dm/store-sales-time-series-forecasting/.git\\objects\\f9\\99e7e4acc2b45aed579dd89bcd9096fc75eb32\n",
      "C:/Users/Khushi Gangrade/Desktop/asu/dm/store-sales-time-series-forecasting/.git\\refs\\heads\\master\n",
      "C:/Users/Khushi Gangrade/Desktop/asu/dm/store-sales-time-series-forecasting/.ipynb_checkpoints\\Store_Sales_Forcasting-checkpoint.ipynb\n",
      "C:/Users/Khushi Gangrade/Desktop/asu/dm/store-sales-time-series-forecasting/store-sales-time-series-forecasting\\Store_Sales_Analysis.ipynb\n",
      "C:/Users/Khushi Gangrade/Desktop/asu/dm/store-sales-time-series-forecasting/store-sales-time-series-forecasting\\.git\\COMMIT_EDITMSG\n",
      "C:/Users/Khushi Gangrade/Desktop/asu/dm/store-sales-time-series-forecasting/store-sales-time-series-forecasting\\.git\\config\n",
      "C:/Users/Khushi Gangrade/Desktop/asu/dm/store-sales-time-series-forecasting/store-sales-time-series-forecasting\\.git\\description\n",
      "C:/Users/Khushi Gangrade/Desktop/asu/dm/store-sales-time-series-forecasting/store-sales-time-series-forecasting\\.git\\HEAD\n",
      "C:/Users/Khushi Gangrade/Desktop/asu/dm/store-sales-time-series-forecasting/store-sales-time-series-forecasting\\.git\\index\n",
      "C:/Users/Khushi Gangrade/Desktop/asu/dm/store-sales-time-series-forecasting/store-sales-time-series-forecasting\\.git\\hooks\\applypatch-msg.sample\n",
      "C:/Users/Khushi Gangrade/Desktop/asu/dm/store-sales-time-series-forecasting/store-sales-time-series-forecasting\\.git\\hooks\\commit-msg.sample\n",
      "C:/Users/Khushi Gangrade/Desktop/asu/dm/store-sales-time-series-forecasting/store-sales-time-series-forecasting\\.git\\hooks\\fsmonitor-watchman.sample\n",
      "C:/Users/Khushi Gangrade/Desktop/asu/dm/store-sales-time-series-forecasting/store-sales-time-series-forecasting\\.git\\hooks\\post-update.sample\n",
      "C:/Users/Khushi Gangrade/Desktop/asu/dm/store-sales-time-series-forecasting/store-sales-time-series-forecasting\\.git\\hooks\\pre-applypatch.sample\n",
      "C:/Users/Khushi Gangrade/Desktop/asu/dm/store-sales-time-series-forecasting/store-sales-time-series-forecasting\\.git\\hooks\\pre-commit.sample\n",
      "C:/Users/Khushi Gangrade/Desktop/asu/dm/store-sales-time-series-forecasting/store-sales-time-series-forecasting\\.git\\hooks\\pre-merge-commit.sample\n",
      "C:/Users/Khushi Gangrade/Desktop/asu/dm/store-sales-time-series-forecasting/store-sales-time-series-forecasting\\.git\\hooks\\pre-push.sample\n",
      "C:/Users/Khushi Gangrade/Desktop/asu/dm/store-sales-time-series-forecasting/store-sales-time-series-forecasting\\.git\\hooks\\pre-rebase.sample\n",
      "C:/Users/Khushi Gangrade/Desktop/asu/dm/store-sales-time-series-forecasting/store-sales-time-series-forecasting\\.git\\hooks\\pre-receive.sample\n",
      "C:/Users/Khushi Gangrade/Desktop/asu/dm/store-sales-time-series-forecasting/store-sales-time-series-forecasting\\.git\\hooks\\prepare-commit-msg.sample\n",
      "C:/Users/Khushi Gangrade/Desktop/asu/dm/store-sales-time-series-forecasting/store-sales-time-series-forecasting\\.git\\hooks\\push-to-checkout.sample\n",
      "C:/Users/Khushi Gangrade/Desktop/asu/dm/store-sales-time-series-forecasting/store-sales-time-series-forecasting\\.git\\hooks\\sendemail-validate.sample\n",
      "C:/Users/Khushi Gangrade/Desktop/asu/dm/store-sales-time-series-forecasting/store-sales-time-series-forecasting\\.git\\hooks\\update.sample\n",
      "C:/Users/Khushi Gangrade/Desktop/asu/dm/store-sales-time-series-forecasting/store-sales-time-series-forecasting\\.git\\info\\exclude\n",
      "C:/Users/Khushi Gangrade/Desktop/asu/dm/store-sales-time-series-forecasting/store-sales-time-series-forecasting\\.git\\logs\\HEAD\n",
      "C:/Users/Khushi Gangrade/Desktop/asu/dm/store-sales-time-series-forecasting/store-sales-time-series-forecasting\\.git\\logs\\refs\\heads\\main\n",
      "C:/Users/Khushi Gangrade/Desktop/asu/dm/store-sales-time-series-forecasting/store-sales-time-series-forecasting\\.git\\logs\\refs\\remotes\\origin\\main\n",
      "C:/Users/Khushi Gangrade/Desktop/asu/dm/store-sales-time-series-forecasting/store-sales-time-series-forecasting\\.git\\objects\\45\\9f428d5fd70ee0b3057c80d1c0c36bda9632ff\n",
      "C:/Users/Khushi Gangrade/Desktop/asu/dm/store-sales-time-series-forecasting/store-sales-time-series-forecasting\\.git\\objects\\93\\4b1e461fdbc33ae6986324b15ac521045e4253\n",
      "C:/Users/Khushi Gangrade/Desktop/asu/dm/store-sales-time-series-forecasting/store-sales-time-series-forecasting\\.git\\objects\\93\\ad675ab4ded5e86774a530f4476a486cefffe3\n",
      "C:/Users/Khushi Gangrade/Desktop/asu/dm/store-sales-time-series-forecasting/store-sales-time-series-forecasting\\.git\\refs\\heads\\main\n",
      "C:/Users/Khushi Gangrade/Desktop/asu/dm/store-sales-time-series-forecasting/store-sales-time-series-forecasting\\.git\\refs\\remotes\\origin\\main\n"
     ]
    }
   ],
   "source": [
    "import numpy as np # linear algebra\n",
    "import pandas as pd # data processing, CSV file I/O (e.g. pd.read_csv)\n",
    "import lightgbm as lgb\n",
    "from sklearn.model_selection import train_test_split\n",
    "from sklearn.metrics import mean_squared_error\n",
    "import matplotlib.pyplot as plt\n",
    "import seaborn as sns\n",
    "\n",
    "import os\n",
    "\n",
    "base_path = \"C:/Users/Khushi Gangrade/Desktop/asu/dm/store-sales-time-series-forecasting/\"\n",
    "\n",
    "for dirname, _, filenames in os.walk(base_path):\n",
    "    for filename in filenames:\n",
    "        print(os.path.join(dirname, filename))"
   ]
  },
  {
   "cell_type": "code",
   "execution_count": 131,
   "id": "860448af-4434-4211-ae1a-d03ad1cb4c40",
   "metadata": {},
   "outputs": [],
   "source": [
    "base_path = \"C:/Users/Khushi Gangrade/Desktop/asu/dm/store-sales-time-series-forecasting/\"\n",
    "\n",
    "oil = pd.read_csv(base_path + 'oil.csv')\n",
    "holidays = pd.read_csv(base_path + 'holidays_events.csv')\n",
    "stores = pd.read_csv(base_path + 'stores.csv')\n",
    "train  = pd.read_csv(base_path + 'train.csv')\n",
    "test = pd.read_csv(base_path + 'test.csv')\n",
    "transactions = pd.read_csv(base_path + 'transactions.csv')\n"
   ]
  },
  {
   "cell_type": "code",
   "execution_count": 132,
   "id": "f02dda11-d3ad-4716-8237-2fa531587981",
   "metadata": {},
   "outputs": [
    {
     "data": {
      "text/html": [
       "<div>\n",
       "<style scoped>\n",
       "    .dataframe tbody tr th:only-of-type {\n",
       "        vertical-align: middle;\n",
       "    }\n",
       "\n",
       "    .dataframe tbody tr th {\n",
       "        vertical-align: top;\n",
       "    }\n",
       "\n",
       "    .dataframe thead th {\n",
       "        text-align: right;\n",
       "    }\n",
       "</style>\n",
       "<table border=\"1\" class=\"dataframe\">\n",
       "  <thead>\n",
       "    <tr style=\"text-align: right;\">\n",
       "      <th></th>\n",
       "      <th>dcoilwtico</th>\n",
       "    </tr>\n",
       "  </thead>\n",
       "  <tbody>\n",
       "    <tr>\n",
       "      <th>count</th>\n",
       "      <td>1175.000000</td>\n",
       "    </tr>\n",
       "    <tr>\n",
       "      <th>mean</th>\n",
       "      <td>67.714366</td>\n",
       "    </tr>\n",
       "    <tr>\n",
       "      <th>std</th>\n",
       "      <td>25.630476</td>\n",
       "    </tr>\n",
       "    <tr>\n",
       "      <th>min</th>\n",
       "      <td>26.190000</td>\n",
       "    </tr>\n",
       "    <tr>\n",
       "      <th>25%</th>\n",
       "      <td>46.405000</td>\n",
       "    </tr>\n",
       "    <tr>\n",
       "      <th>50%</th>\n",
       "      <td>53.190000</td>\n",
       "    </tr>\n",
       "    <tr>\n",
       "      <th>75%</th>\n",
       "      <td>95.660000</td>\n",
       "    </tr>\n",
       "    <tr>\n",
       "      <th>max</th>\n",
       "      <td>110.620000</td>\n",
       "    </tr>\n",
       "  </tbody>\n",
       "</table>\n",
       "</div>"
      ],
      "text/plain": [
       "        dcoilwtico\n",
       "count  1175.000000\n",
       "mean     67.714366\n",
       "std      25.630476\n",
       "min      26.190000\n",
       "25%      46.405000\n",
       "50%      53.190000\n",
       "75%      95.660000\n",
       "max     110.620000"
      ]
     },
     "execution_count": 132,
     "metadata": {},
     "output_type": "execute_result"
    }
   ],
   "source": [
    "oil.describe()"
   ]
  },
  {
   "cell_type": "code",
   "execution_count": 133,
   "id": "a8761e9f-20a1-4baa-9f32-a24d98c1e8ec",
   "metadata": {},
   "outputs": [
    {
     "data": {
      "text/plain": [
       "date           0\n",
       "dcoilwtico    43\n",
       "dtype: int64"
      ]
     },
     "execution_count": 133,
     "metadata": {},
     "output_type": "execute_result"
    }
   ],
   "source": [
    "oil.isnull().sum()"
   ]
  },
  {
   "cell_type": "code",
   "execution_count": 134,
   "id": "f4e95b6e-e36f-4d74-9485-db12d8b51757",
   "metadata": {},
   "outputs": [
    {
     "name": "stdout",
     "output_type": "stream",
     "text": [
      "date           0\n",
      "dcoilwtico    43\n",
      "dtype: int64\n"
     ]
    }
   ],
   "source": [
    "##\n",
    "# Step 1: Find the mode of the dcoilwtico column\n",
    "mode_value = oil['dcoilwtico'].mode()[0]\n",
    "\n",
    "# Step 2: Replace the missing values with the mode\n",
    "oil['dcoilwtico'].fillna(mode_value)\n",
    "\n",
    "# Step 3 (Optional): Verify if missing values are replaced\n",
    "print(oil.isnull().sum())\n",
    "# oil.to_csv('/kaggle/input/store-sales-forecasting-data/store-sales-time-series-forecasting-data/Oil_Changed.csv')"
   ]
  },
  {
   "cell_type": "code",
   "execution_count": 135,
   "id": "9286260c-4485-4190-8871-ae9114c61ee9",
   "metadata": {},
   "outputs": [
    {
     "data": {
      "text/html": [
       "<div>\n",
       "<style scoped>\n",
       "    .dataframe tbody tr th:only-of-type {\n",
       "        vertical-align: middle;\n",
       "    }\n",
       "\n",
       "    .dataframe tbody tr th {\n",
       "        vertical-align: top;\n",
       "    }\n",
       "\n",
       "    .dataframe thead th {\n",
       "        text-align: right;\n",
       "    }\n",
       "</style>\n",
       "<table border=\"1\" class=\"dataframe\">\n",
       "  <thead>\n",
       "    <tr style=\"text-align: right;\">\n",
       "      <th></th>\n",
       "      <th>date</th>\n",
       "      <th>type</th>\n",
       "      <th>locale</th>\n",
       "      <th>locale_name</th>\n",
       "      <th>description</th>\n",
       "      <th>transferred</th>\n",
       "    </tr>\n",
       "  </thead>\n",
       "  <tbody>\n",
       "    <tr>\n",
       "      <th>0</th>\n",
       "      <td>2012-03-02</td>\n",
       "      <td>Holiday</td>\n",
       "      <td>Local</td>\n",
       "      <td>Manta</td>\n",
       "      <td>Fundacion de Manta</td>\n",
       "      <td>False</td>\n",
       "    </tr>\n",
       "    <tr>\n",
       "      <th>1</th>\n",
       "      <td>2012-04-01</td>\n",
       "      <td>Holiday</td>\n",
       "      <td>Regional</td>\n",
       "      <td>Cotopaxi</td>\n",
       "      <td>Provincializacion de Cotopaxi</td>\n",
       "      <td>False</td>\n",
       "    </tr>\n",
       "    <tr>\n",
       "      <th>2</th>\n",
       "      <td>2012-04-12</td>\n",
       "      <td>Holiday</td>\n",
       "      <td>Local</td>\n",
       "      <td>Cuenca</td>\n",
       "      <td>Fundacion de Cuenca</td>\n",
       "      <td>False</td>\n",
       "    </tr>\n",
       "    <tr>\n",
       "      <th>3</th>\n",
       "      <td>2012-04-14</td>\n",
       "      <td>Holiday</td>\n",
       "      <td>Local</td>\n",
       "      <td>Libertad</td>\n",
       "      <td>Cantonizacion de Libertad</td>\n",
       "      <td>False</td>\n",
       "    </tr>\n",
       "    <tr>\n",
       "      <th>4</th>\n",
       "      <td>2012-04-21</td>\n",
       "      <td>Holiday</td>\n",
       "      <td>Local</td>\n",
       "      <td>Riobamba</td>\n",
       "      <td>Cantonizacion de Riobamba</td>\n",
       "      <td>False</td>\n",
       "    </tr>\n",
       "  </tbody>\n",
       "</table>\n",
       "</div>"
      ],
      "text/plain": [
       "         date     type    locale locale_name                    description  \\\n",
       "0  2012-03-02  Holiday     Local       Manta             Fundacion de Manta   \n",
       "1  2012-04-01  Holiday  Regional    Cotopaxi  Provincializacion de Cotopaxi   \n",
       "2  2012-04-12  Holiday     Local      Cuenca            Fundacion de Cuenca   \n",
       "3  2012-04-14  Holiday     Local    Libertad      Cantonizacion de Libertad   \n",
       "4  2012-04-21  Holiday     Local    Riobamba      Cantonizacion de Riobamba   \n",
       "\n",
       "   transferred  \n",
       "0        False  \n",
       "1        False  \n",
       "2        False  \n",
       "3        False  \n",
       "4        False  "
      ]
     },
     "execution_count": 135,
     "metadata": {},
     "output_type": "execute_result"
    }
   ],
   "source": [
    "holidays.head()"
   ]
  },
  {
   "cell_type": "code",
   "execution_count": 136,
   "id": "e84df5c9-ae33-41e0-a372-c1a938223b3f",
   "metadata": {},
   "outputs": [
    {
     "data": {
      "text/plain": [
       "date           0\n",
       "type           0\n",
       "locale         0\n",
       "locale_name    0\n",
       "description    0\n",
       "transferred    0\n",
       "dtype: int64"
      ]
     },
     "execution_count": 136,
     "metadata": {},
     "output_type": "execute_result"
    }
   ],
   "source": [
    "holidays.isnull().sum()"
   ]
  },
  {
   "cell_type": "code",
   "execution_count": 137,
   "id": "37e75927-ebcd-4f8c-8fcc-040901ec4bf8",
   "metadata": {},
   "outputs": [
    {
     "data": {
      "text/html": [
       "<div>\n",
       "<style scoped>\n",
       "    .dataframe tbody tr th:only-of-type {\n",
       "        vertical-align: middle;\n",
       "    }\n",
       "\n",
       "    .dataframe tbody tr th {\n",
       "        vertical-align: top;\n",
       "    }\n",
       "\n",
       "    .dataframe thead th {\n",
       "        text-align: right;\n",
       "    }\n",
       "</style>\n",
       "<table border=\"1\" class=\"dataframe\">\n",
       "  <thead>\n",
       "    <tr style=\"text-align: right;\">\n",
       "      <th></th>\n",
       "      <th>store_nbr</th>\n",
       "      <th>city</th>\n",
       "      <th>state</th>\n",
       "      <th>type</th>\n",
       "      <th>cluster</th>\n",
       "    </tr>\n",
       "  </thead>\n",
       "  <tbody>\n",
       "    <tr>\n",
       "      <th>0</th>\n",
       "      <td>1</td>\n",
       "      <td>Quito</td>\n",
       "      <td>Pichincha</td>\n",
       "      <td>D</td>\n",
       "      <td>13</td>\n",
       "    </tr>\n",
       "    <tr>\n",
       "      <th>1</th>\n",
       "      <td>2</td>\n",
       "      <td>Quito</td>\n",
       "      <td>Pichincha</td>\n",
       "      <td>D</td>\n",
       "      <td>13</td>\n",
       "    </tr>\n",
       "    <tr>\n",
       "      <th>2</th>\n",
       "      <td>3</td>\n",
       "      <td>Quito</td>\n",
       "      <td>Pichincha</td>\n",
       "      <td>D</td>\n",
       "      <td>8</td>\n",
       "    </tr>\n",
       "    <tr>\n",
       "      <th>3</th>\n",
       "      <td>4</td>\n",
       "      <td>Quito</td>\n",
       "      <td>Pichincha</td>\n",
       "      <td>D</td>\n",
       "      <td>9</td>\n",
       "    </tr>\n",
       "    <tr>\n",
       "      <th>4</th>\n",
       "      <td>5</td>\n",
       "      <td>Santo Domingo</td>\n",
       "      <td>Santo Domingo de los Tsachilas</td>\n",
       "      <td>D</td>\n",
       "      <td>4</td>\n",
       "    </tr>\n",
       "  </tbody>\n",
       "</table>\n",
       "</div>"
      ],
      "text/plain": [
       "   store_nbr           city                           state type  cluster\n",
       "0          1          Quito                       Pichincha    D       13\n",
       "1          2          Quito                       Pichincha    D       13\n",
       "2          3          Quito                       Pichincha    D        8\n",
       "3          4          Quito                       Pichincha    D        9\n",
       "4          5  Santo Domingo  Santo Domingo de los Tsachilas    D        4"
      ]
     },
     "execution_count": 137,
     "metadata": {},
     "output_type": "execute_result"
    }
   ],
   "source": [
    "stores.head()"
   ]
  },
  {
   "cell_type": "code",
   "execution_count": 138,
   "id": "b8e7b554-b8fd-4427-9c64-c2fe88f77ac7",
   "metadata": {},
   "outputs": [
    {
     "data": {
      "text/plain": [
       "store_nbr    0\n",
       "city         0\n",
       "state        0\n",
       "type         0\n",
       "cluster      0\n",
       "dtype: int64"
      ]
     },
     "execution_count": 138,
     "metadata": {},
     "output_type": "execute_result"
    }
   ],
   "source": [
    "stores.isnull().sum()"
   ]
  },
  {
   "cell_type": "code",
   "execution_count": 139,
   "id": "d1e1f0f3-ee05-4af9-aa52-02db24431ea5",
   "metadata": {},
   "outputs": [
    {
     "data": {
      "text/plain": [
       "id             0\n",
       "date           0\n",
       "store_nbr      0\n",
       "family         0\n",
       "sales          0\n",
       "onpromotion    0\n",
       "dtype: int64"
      ]
     },
     "execution_count": 139,
     "metadata": {},
     "output_type": "execute_result"
    }
   ],
   "source": [
    "train.isnull().sum()"
   ]
  },
  {
   "cell_type": "code",
   "execution_count": 140,
   "id": "1231013a-dd13-48a2-a5ac-6f3d32ebb05f",
   "metadata": {},
   "outputs": [
    {
     "data": {
      "text/html": [
       "<div>\n",
       "<style scoped>\n",
       "    .dataframe tbody tr th:only-of-type {\n",
       "        vertical-align: middle;\n",
       "    }\n",
       "\n",
       "    .dataframe tbody tr th {\n",
       "        vertical-align: top;\n",
       "    }\n",
       "\n",
       "    .dataframe thead th {\n",
       "        text-align: right;\n",
       "    }\n",
       "</style>\n",
       "<table border=\"1\" class=\"dataframe\">\n",
       "  <thead>\n",
       "    <tr style=\"text-align: right;\">\n",
       "      <th></th>\n",
       "      <th>id</th>\n",
       "      <th>date</th>\n",
       "      <th>store_nbr</th>\n",
       "      <th>family</th>\n",
       "      <th>sales</th>\n",
       "      <th>onpromotion</th>\n",
       "    </tr>\n",
       "  </thead>\n",
       "  <tbody>\n",
       "    <tr>\n",
       "      <th>0</th>\n",
       "      <td>0</td>\n",
       "      <td>2013-01-01</td>\n",
       "      <td>1</td>\n",
       "      <td>AUTOMOTIVE</td>\n",
       "      <td>0.0</td>\n",
       "      <td>0</td>\n",
       "    </tr>\n",
       "    <tr>\n",
       "      <th>1</th>\n",
       "      <td>1</td>\n",
       "      <td>2013-01-01</td>\n",
       "      <td>1</td>\n",
       "      <td>BABY CARE</td>\n",
       "      <td>0.0</td>\n",
       "      <td>0</td>\n",
       "    </tr>\n",
       "    <tr>\n",
       "      <th>2</th>\n",
       "      <td>2</td>\n",
       "      <td>2013-01-01</td>\n",
       "      <td>1</td>\n",
       "      <td>BEAUTY</td>\n",
       "      <td>0.0</td>\n",
       "      <td>0</td>\n",
       "    </tr>\n",
       "    <tr>\n",
       "      <th>3</th>\n",
       "      <td>3</td>\n",
       "      <td>2013-01-01</td>\n",
       "      <td>1</td>\n",
       "      <td>BEVERAGES</td>\n",
       "      <td>0.0</td>\n",
       "      <td>0</td>\n",
       "    </tr>\n",
       "    <tr>\n",
       "      <th>4</th>\n",
       "      <td>4</td>\n",
       "      <td>2013-01-01</td>\n",
       "      <td>1</td>\n",
       "      <td>BOOKS</td>\n",
       "      <td>0.0</td>\n",
       "      <td>0</td>\n",
       "    </tr>\n",
       "  </tbody>\n",
       "</table>\n",
       "</div>"
      ],
      "text/plain": [
       "   id        date  store_nbr      family  sales  onpromotion\n",
       "0   0  2013-01-01          1  AUTOMOTIVE    0.0            0\n",
       "1   1  2013-01-01          1   BABY CARE    0.0            0\n",
       "2   2  2013-01-01          1      BEAUTY    0.0            0\n",
       "3   3  2013-01-01          1   BEVERAGES    0.0            0\n",
       "4   4  2013-01-01          1       BOOKS    0.0            0"
      ]
     },
     "execution_count": 140,
     "metadata": {},
     "output_type": "execute_result"
    }
   ],
   "source": [
    "train.head()"
   ]
  },
  {
   "cell_type": "code",
   "execution_count": 141,
   "id": "a6ab71c5-ae23-4ba6-bbd5-197b2de5ac4a",
   "metadata": {},
   "outputs": [
    {
     "data": {
      "text/html": [
       "<div>\n",
       "<style scoped>\n",
       "    .dataframe tbody tr th:only-of-type {\n",
       "        vertical-align: middle;\n",
       "    }\n",
       "\n",
       "    .dataframe tbody tr th {\n",
       "        vertical-align: top;\n",
       "    }\n",
       "\n",
       "    .dataframe thead th {\n",
       "        text-align: right;\n",
       "    }\n",
       "</style>\n",
       "<table border=\"1\" class=\"dataframe\">\n",
       "  <thead>\n",
       "    <tr style=\"text-align: right;\">\n",
       "      <th></th>\n",
       "      <th>id</th>\n",
       "      <th>date</th>\n",
       "      <th>store_nbr</th>\n",
       "      <th>family</th>\n",
       "      <th>onpromotion</th>\n",
       "    </tr>\n",
       "  </thead>\n",
       "  <tbody>\n",
       "    <tr>\n",
       "      <th>0</th>\n",
       "      <td>3000888</td>\n",
       "      <td>2017-08-16</td>\n",
       "      <td>1</td>\n",
       "      <td>AUTOMOTIVE</td>\n",
       "      <td>0</td>\n",
       "    </tr>\n",
       "    <tr>\n",
       "      <th>1</th>\n",
       "      <td>3000889</td>\n",
       "      <td>2017-08-16</td>\n",
       "      <td>1</td>\n",
       "      <td>BABY CARE</td>\n",
       "      <td>0</td>\n",
       "    </tr>\n",
       "    <tr>\n",
       "      <th>2</th>\n",
       "      <td>3000890</td>\n",
       "      <td>2017-08-16</td>\n",
       "      <td>1</td>\n",
       "      <td>BEAUTY</td>\n",
       "      <td>2</td>\n",
       "    </tr>\n",
       "    <tr>\n",
       "      <th>3</th>\n",
       "      <td>3000891</td>\n",
       "      <td>2017-08-16</td>\n",
       "      <td>1</td>\n",
       "      <td>BEVERAGES</td>\n",
       "      <td>20</td>\n",
       "    </tr>\n",
       "    <tr>\n",
       "      <th>4</th>\n",
       "      <td>3000892</td>\n",
       "      <td>2017-08-16</td>\n",
       "      <td>1</td>\n",
       "      <td>BOOKS</td>\n",
       "      <td>0</td>\n",
       "    </tr>\n",
       "  </tbody>\n",
       "</table>\n",
       "</div>"
      ],
      "text/plain": [
       "        id        date  store_nbr      family  onpromotion\n",
       "0  3000888  2017-08-16          1  AUTOMOTIVE            0\n",
       "1  3000889  2017-08-16          1   BABY CARE            0\n",
       "2  3000890  2017-08-16          1      BEAUTY            2\n",
       "3  3000891  2017-08-16          1   BEVERAGES           20\n",
       "4  3000892  2017-08-16          1       BOOKS            0"
      ]
     },
     "execution_count": 141,
     "metadata": {},
     "output_type": "execute_result"
    }
   ],
   "source": [
    "test.head()"
   ]
  },
  {
   "cell_type": "code",
   "execution_count": 142,
   "id": "18013db5-3e00-47ff-a26e-4f2980223db9",
   "metadata": {},
   "outputs": [
    {
     "data": {
      "text/plain": [
       "id             0\n",
       "date           0\n",
       "store_nbr      0\n",
       "family         0\n",
       "sales          0\n",
       "onpromotion    0\n",
       "dtype: int64"
      ]
     },
     "execution_count": 142,
     "metadata": {},
     "output_type": "execute_result"
    }
   ],
   "source": [
    "train.isnull().sum()"
   ]
  },
  {
   "cell_type": "code",
   "execution_count": 143,
   "id": "33a2cedb-0c96-4e59-9c16-e0ead65af4bc",
   "metadata": {},
   "outputs": [
    {
     "data": {
      "text/html": [
       "<div>\n",
       "<style scoped>\n",
       "    .dataframe tbody tr th:only-of-type {\n",
       "        vertical-align: middle;\n",
       "    }\n",
       "\n",
       "    .dataframe tbody tr th {\n",
       "        vertical-align: top;\n",
       "    }\n",
       "\n",
       "    .dataframe thead th {\n",
       "        text-align: right;\n",
       "    }\n",
       "</style>\n",
       "<table border=\"1\" class=\"dataframe\">\n",
       "  <thead>\n",
       "    <tr style=\"text-align: right;\">\n",
       "      <th></th>\n",
       "      <th>date</th>\n",
       "      <th>store_nbr</th>\n",
       "      <th>transactions</th>\n",
       "    </tr>\n",
       "  </thead>\n",
       "  <tbody>\n",
       "    <tr>\n",
       "      <th>0</th>\n",
       "      <td>2013-01-01</td>\n",
       "      <td>25</td>\n",
       "      <td>770</td>\n",
       "    </tr>\n",
       "    <tr>\n",
       "      <th>1</th>\n",
       "      <td>2013-01-02</td>\n",
       "      <td>1</td>\n",
       "      <td>2111</td>\n",
       "    </tr>\n",
       "    <tr>\n",
       "      <th>2</th>\n",
       "      <td>2013-01-02</td>\n",
       "      <td>2</td>\n",
       "      <td>2358</td>\n",
       "    </tr>\n",
       "    <tr>\n",
       "      <th>3</th>\n",
       "      <td>2013-01-02</td>\n",
       "      <td>3</td>\n",
       "      <td>3487</td>\n",
       "    </tr>\n",
       "    <tr>\n",
       "      <th>4</th>\n",
       "      <td>2013-01-02</td>\n",
       "      <td>4</td>\n",
       "      <td>1922</td>\n",
       "    </tr>\n",
       "  </tbody>\n",
       "</table>\n",
       "</div>"
      ],
      "text/plain": [
       "         date  store_nbr  transactions\n",
       "0  2013-01-01         25           770\n",
       "1  2013-01-02          1          2111\n",
       "2  2013-01-02          2          2358\n",
       "3  2013-01-02          3          3487\n",
       "4  2013-01-02          4          1922"
      ]
     },
     "execution_count": 143,
     "metadata": {},
     "output_type": "execute_result"
    }
   ],
   "source": [
    "transactions.head()"
   ]
  },
  {
   "cell_type": "code",
   "execution_count": 144,
   "id": "be5e8b2b-7caa-4e42-bda3-dacdfa8d1728",
   "metadata": {},
   "outputs": [
    {
     "data": {
      "text/plain": [
       "date            0\n",
       "store_nbr       0\n",
       "transactions    0\n",
       "dtype: int64"
      ]
     },
     "execution_count": 144,
     "metadata": {},
     "output_type": "execute_result"
    }
   ],
   "source": [
    "transactions.isnull().sum()"
   ]
  },
  {
   "cell_type": "code",
   "execution_count": 145,
   "id": "13386215-5682-4091-a6af-91deb6a1939a",
   "metadata": {},
   "outputs": [
    {
     "data": {
      "text/html": [
       "<div>\n",
       "<style scoped>\n",
       "    .dataframe tbody tr th:only-of-type {\n",
       "        vertical-align: middle;\n",
       "    }\n",
       "\n",
       "    .dataframe tbody tr th {\n",
       "        vertical-align: top;\n",
       "    }\n",
       "\n",
       "    .dataframe thead th {\n",
       "        text-align: right;\n",
       "    }\n",
       "</style>\n",
       "<table border=\"1\" class=\"dataframe\">\n",
       "  <thead>\n",
       "    <tr style=\"text-align: right;\">\n",
       "      <th></th>\n",
       "      <th>id</th>\n",
       "      <th>store_nbr</th>\n",
       "      <th>sales</th>\n",
       "      <th>onpromotion</th>\n",
       "    </tr>\n",
       "  </thead>\n",
       "  <tbody>\n",
       "    <tr>\n",
       "      <th>count</th>\n",
       "      <td>3.000888e+06</td>\n",
       "      <td>3.000888e+06</td>\n",
       "      <td>3.000888e+06</td>\n",
       "      <td>3.000888e+06</td>\n",
       "    </tr>\n",
       "    <tr>\n",
       "      <th>mean</th>\n",
       "      <td>1.500444e+06</td>\n",
       "      <td>2.750000e+01</td>\n",
       "      <td>3.577757e+02</td>\n",
       "      <td>2.602770e+00</td>\n",
       "    </tr>\n",
       "    <tr>\n",
       "      <th>std</th>\n",
       "      <td>8.662819e+05</td>\n",
       "      <td>1.558579e+01</td>\n",
       "      <td>1.101998e+03</td>\n",
       "      <td>1.221888e+01</td>\n",
       "    </tr>\n",
       "    <tr>\n",
       "      <th>min</th>\n",
       "      <td>0.000000e+00</td>\n",
       "      <td>1.000000e+00</td>\n",
       "      <td>0.000000e+00</td>\n",
       "      <td>0.000000e+00</td>\n",
       "    </tr>\n",
       "    <tr>\n",
       "      <th>25%</th>\n",
       "      <td>7.502218e+05</td>\n",
       "      <td>1.400000e+01</td>\n",
       "      <td>0.000000e+00</td>\n",
       "      <td>0.000000e+00</td>\n",
       "    </tr>\n",
       "    <tr>\n",
       "      <th>50%</th>\n",
       "      <td>1.500444e+06</td>\n",
       "      <td>2.750000e+01</td>\n",
       "      <td>1.100000e+01</td>\n",
       "      <td>0.000000e+00</td>\n",
       "    </tr>\n",
       "    <tr>\n",
       "      <th>75%</th>\n",
       "      <td>2.250665e+06</td>\n",
       "      <td>4.100000e+01</td>\n",
       "      <td>1.958473e+02</td>\n",
       "      <td>0.000000e+00</td>\n",
       "    </tr>\n",
       "    <tr>\n",
       "      <th>max</th>\n",
       "      <td>3.000887e+06</td>\n",
       "      <td>5.400000e+01</td>\n",
       "      <td>1.247170e+05</td>\n",
       "      <td>7.410000e+02</td>\n",
       "    </tr>\n",
       "  </tbody>\n",
       "</table>\n",
       "</div>"
      ],
      "text/plain": [
       "                 id     store_nbr         sales   onpromotion\n",
       "count  3.000888e+06  3.000888e+06  3.000888e+06  3.000888e+06\n",
       "mean   1.500444e+06  2.750000e+01  3.577757e+02  2.602770e+00\n",
       "std    8.662819e+05  1.558579e+01  1.101998e+03  1.221888e+01\n",
       "min    0.000000e+00  1.000000e+00  0.000000e+00  0.000000e+00\n",
       "25%    7.502218e+05  1.400000e+01  0.000000e+00  0.000000e+00\n",
       "50%    1.500444e+06  2.750000e+01  1.100000e+01  0.000000e+00\n",
       "75%    2.250665e+06  4.100000e+01  1.958473e+02  0.000000e+00\n",
       "max    3.000887e+06  5.400000e+01  1.247170e+05  7.410000e+02"
      ]
     },
     "execution_count": 145,
     "metadata": {},
     "output_type": "execute_result"
    }
   ],
   "source": [
    "train.describe()"
   ]
  },
  {
   "cell_type": "code",
   "execution_count": 146,
   "id": "0e6137a8-5760-46f6-86a6-2270391aed20",
   "metadata": {},
   "outputs": [],
   "source": [
    "# Convert date columns to datetime\n",
    "train['date'] = pd.to_datetime(train['date'])\n",
    "test['date'] = pd.to_datetime(test['date'])\n",
    "oil['date'] = pd.to_datetime(oil['date'])\n",
    "holidays['date'] = pd.to_datetime(holidays['date'])\n",
    "transactions['date'] = pd.to_datetime(transactions['date'])"
   ]
  },
  {
   "cell_type": "code",
   "execution_count": 147,
   "id": "2c3b38c5-2c56-47f4-9369-903fd0614c85",
   "metadata": {},
   "outputs": [],
   "source": [
    "# Merge additional information into the train and test data\n",
    "train = train.merge(stores, on='store_nbr', how='left')\n",
    "test = test.merge(stores, on='store_nbr', how='left')\n",
    "\n",
    "train = train.merge(oil, on='date', how='left')\n",
    "test = test.merge(oil, on='date', how='left')\n",
    "\n",
    "train = train.merge(holidays, on='date', how='left')\n",
    "test = test.merge(holidays, on='date', how='left')"
   ]
  },
  {
   "cell_type": "code",
   "execution_count": 148,
   "id": "eb5708a0-f765-4a78-95c9-6218bb8c99a2",
   "metadata": {},
   "outputs": [],
   "source": [
    "# Merge transactions data into train and test\n",
    "train = train.merge(transactions, on=['date', 'store_nbr'], how='left')\n",
    "test = test.merge(transactions, on=['date', 'store_nbr'], how='left')"
   ]
  },
  {
   "cell_type": "code",
   "execution_count": 149,
   "id": "4bf28985-fa84-44dd-b2a8-463a430fd5da",
   "metadata": {},
   "outputs": [],
   "source": [
    "# Fill missing values without inplace=True to avoid chained assignment\n",
    "train['onpromotion'] = train['onpromotion'].fillna(0)\n",
    "test['onpromotion'] = test['onpromotion'].fillna(0)\n",
    "\n",
    "train['dcoilwtico'] = train['dcoilwtico'].ffill()\n",
    "test['dcoilwtico'] = test['dcoilwtico'].ffill()\n",
    "\n",
    "train['transactions'] = train['transactions'].fillna(0)\n",
    "test['transactions'] = test['transactions'].fillna(0)"
   ]
  },
  {
   "cell_type": "code",
   "execution_count": 150,
   "id": "75a21bbb-709a-4c1e-83c4-c433fbeb016f",
   "metadata": {},
   "outputs": [
    {
     "name": "stdout",
     "output_type": "stream",
     "text": [
      "Index(['id', 'date', 'store_nbr', 'family', 'sales', 'onpromotion', 'city',\n",
      "       'state', 'type_x', 'cluster', 'dcoilwtico', 'type_y', 'locale',\n",
      "       'locale_name', 'description', 'transferred', 'transactions'],\n",
      "      dtype='object')\n"
     ]
    }
   ],
   "source": [
    "print(train.columns)"
   ]
  },
  {
   "cell_type": "code",
   "execution_count": 151,
   "id": "50b4c1c6-3ea3-4360-aa7f-a32c3b94c7a1",
   "metadata": {},
   "outputs": [
    {
     "name": "stdout",
     "output_type": "stream",
     "text": [
      "       family  Family_Label   city  City_Label      state  State_Label type_x  \\\n",
      "0  AUTOMOTIVE             0  Quito          18  Pichincha           12      D   \n",
      "1   BABY CARE             1  Quito          18  Pichincha           12      D   \n",
      "2      BEAUTY             2  Quito          18  Pichincha           12      D   \n",
      "3   BEVERAGES             3  Quito          18  Pichincha           12      D   \n",
      "4       BOOKS             4  Quito          18  Pichincha           12      D   \n",
      "\n",
      "   Type_x_Label  \n",
      "0             3  \n",
      "1             3  \n",
      "2             3  \n",
      "3             3  \n",
      "4             3  \n",
      "                             family  Family_Label   city  City_Label  \\\n",
      "3054343                     POULTRY            28  Quito          18   \n",
      "3054344              PREPARED FOODS            29  Quito          18   \n",
      "3054345                     PRODUCE            30  Quito          18   \n",
      "3054346  SCHOOL AND OFFICE SUPPLIES            31  Quito          18   \n",
      "3054347                     SEAFOOD            32  Quito          18   \n",
      "\n",
      "             state  State_Label type_x  Type_x_Label  \n",
      "3054343  Pichincha           12      B             1  \n",
      "3054344  Pichincha           12      B             1  \n",
      "3054345  Pichincha           12      B             1  \n",
      "3054346  Pichincha           12      B             1  \n",
      "3054347  Pichincha           12      B             1  \n"
     ]
    }
   ],
   "source": [
    "##\n",
    "# Frequency encoding for 'family'\n",
    "#train.family = pd.Categorical(train.family) Get the frequency of each unique category in 'family'\n",
    "#train['family_freq'] = train.family.codes\n",
    "\n",
    "from sklearn.preprocessing import LabelEncoder\n",
    "\n",
    "LE = LabelEncoder()\n",
    "train['Family_Label'] = LE.fit_transform(train['family'])\n",
    "train['City_Label'] = LE.fit_transform(train['city'])\n",
    "train['State_Label'] = LE.fit_transform(train['state'])\n",
    "train['Type_x_Label'] = LE.fit_transform(train['type_x'])\n",
    "train['Locale_Label'] = LE.fit_transform(train['locale'])\n",
    "train['Locale_Name_Label'] = LE.fit_transform(train['locale_name'])\n",
    "\n",
    "test['Family_Label'] = LE.fit_transform(test['family'])\n",
    "test['City_Label'] = LE.fit_transform(test['city'])\n",
    "test['State_Label'] = LE.fit_transform(test['state'])\n",
    "test['Type_x_Label'] = LE.fit_transform(test['type_x'])\n",
    "test['Locale_Label'] = LE.fit_transform(test['locale'])\n",
    "test['Locale_Name_Label'] = LE.fit_transform(test['locale_name'])\n",
    "\n",
    "# Optionally, verify if encoding was applied correctly\n",
    "print(train[['family', 'Family_Label','city', 'City_Label', 'state', 'State_Label', 'type_x', 'Type_x_Label']].head())\n",
    "print(train[['family', 'Family_Label','city', 'City_Label', 'state', 'State_Label', 'type_x', 'Type_x_Label']].tail())\n"
   ]
  },
  {
   "cell_type": "code",
   "execution_count": 152,
   "id": "2d0dc64a-38e2-44e5-8e70-ce8d2c43d225",
   "metadata": {},
   "outputs": [
    {
     "data": {
      "text/html": [
       "<div>\n",
       "<style scoped>\n",
       "    .dataframe tbody tr th:only-of-type {\n",
       "        vertical-align: middle;\n",
       "    }\n",
       "\n",
       "    .dataframe tbody tr th {\n",
       "        vertical-align: top;\n",
       "    }\n",
       "\n",
       "    .dataframe thead th {\n",
       "        text-align: right;\n",
       "    }\n",
       "</style>\n",
       "<table border=\"1\" class=\"dataframe\">\n",
       "  <thead>\n",
       "    <tr style=\"text-align: right;\">\n",
       "      <th></th>\n",
       "      <th>id</th>\n",
       "      <th>date</th>\n",
       "      <th>store_nbr</th>\n",
       "      <th>family</th>\n",
       "      <th>sales</th>\n",
       "      <th>onpromotion</th>\n",
       "      <th>city</th>\n",
       "      <th>state</th>\n",
       "      <th>type_x</th>\n",
       "      <th>cluster</th>\n",
       "      <th>...</th>\n",
       "      <th>locale_name</th>\n",
       "      <th>description</th>\n",
       "      <th>transferred</th>\n",
       "      <th>transactions</th>\n",
       "      <th>Family_Label</th>\n",
       "      <th>City_Label</th>\n",
       "      <th>State_Label</th>\n",
       "      <th>Type_x_Label</th>\n",
       "      <th>Locale_Label</th>\n",
       "      <th>Locale_Name_Label</th>\n",
       "    </tr>\n",
       "  </thead>\n",
       "  <tbody>\n",
       "    <tr>\n",
       "      <th>0</th>\n",
       "      <td>0</td>\n",
       "      <td>2013-01-01</td>\n",
       "      <td>1</td>\n",
       "      <td>AUTOMOTIVE</td>\n",
       "      <td>0.0</td>\n",
       "      <td>0</td>\n",
       "      <td>Quito</td>\n",
       "      <td>Pichincha</td>\n",
       "      <td>D</td>\n",
       "      <td>13</td>\n",
       "      <td>...</td>\n",
       "      <td>Ecuador</td>\n",
       "      <td>Primer dia del ano</td>\n",
       "      <td>False</td>\n",
       "      <td>0.0</td>\n",
       "      <td>0</td>\n",
       "      <td>18</td>\n",
       "      <td>12</td>\n",
       "      <td>3</td>\n",
       "      <td>1</td>\n",
       "      <td>4</td>\n",
       "    </tr>\n",
       "    <tr>\n",
       "      <th>1</th>\n",
       "      <td>1</td>\n",
       "      <td>2013-01-01</td>\n",
       "      <td>1</td>\n",
       "      <td>BABY CARE</td>\n",
       "      <td>0.0</td>\n",
       "      <td>0</td>\n",
       "      <td>Quito</td>\n",
       "      <td>Pichincha</td>\n",
       "      <td>D</td>\n",
       "      <td>13</td>\n",
       "      <td>...</td>\n",
       "      <td>Ecuador</td>\n",
       "      <td>Primer dia del ano</td>\n",
       "      <td>False</td>\n",
       "      <td>0.0</td>\n",
       "      <td>1</td>\n",
       "      <td>18</td>\n",
       "      <td>12</td>\n",
       "      <td>3</td>\n",
       "      <td>1</td>\n",
       "      <td>4</td>\n",
       "    </tr>\n",
       "    <tr>\n",
       "      <th>2</th>\n",
       "      <td>2</td>\n",
       "      <td>2013-01-01</td>\n",
       "      <td>1</td>\n",
       "      <td>BEAUTY</td>\n",
       "      <td>0.0</td>\n",
       "      <td>0</td>\n",
       "      <td>Quito</td>\n",
       "      <td>Pichincha</td>\n",
       "      <td>D</td>\n",
       "      <td>13</td>\n",
       "      <td>...</td>\n",
       "      <td>Ecuador</td>\n",
       "      <td>Primer dia del ano</td>\n",
       "      <td>False</td>\n",
       "      <td>0.0</td>\n",
       "      <td>2</td>\n",
       "      <td>18</td>\n",
       "      <td>12</td>\n",
       "      <td>3</td>\n",
       "      <td>1</td>\n",
       "      <td>4</td>\n",
       "    </tr>\n",
       "    <tr>\n",
       "      <th>3</th>\n",
       "      <td>3</td>\n",
       "      <td>2013-01-01</td>\n",
       "      <td>1</td>\n",
       "      <td>BEVERAGES</td>\n",
       "      <td>0.0</td>\n",
       "      <td>0</td>\n",
       "      <td>Quito</td>\n",
       "      <td>Pichincha</td>\n",
       "      <td>D</td>\n",
       "      <td>13</td>\n",
       "      <td>...</td>\n",
       "      <td>Ecuador</td>\n",
       "      <td>Primer dia del ano</td>\n",
       "      <td>False</td>\n",
       "      <td>0.0</td>\n",
       "      <td>3</td>\n",
       "      <td>18</td>\n",
       "      <td>12</td>\n",
       "      <td>3</td>\n",
       "      <td>1</td>\n",
       "      <td>4</td>\n",
       "    </tr>\n",
       "    <tr>\n",
       "      <th>4</th>\n",
       "      <td>4</td>\n",
       "      <td>2013-01-01</td>\n",
       "      <td>1</td>\n",
       "      <td>BOOKS</td>\n",
       "      <td>0.0</td>\n",
       "      <td>0</td>\n",
       "      <td>Quito</td>\n",
       "      <td>Pichincha</td>\n",
       "      <td>D</td>\n",
       "      <td>13</td>\n",
       "      <td>...</td>\n",
       "      <td>Ecuador</td>\n",
       "      <td>Primer dia del ano</td>\n",
       "      <td>False</td>\n",
       "      <td>0.0</td>\n",
       "      <td>4</td>\n",
       "      <td>18</td>\n",
       "      <td>12</td>\n",
       "      <td>3</td>\n",
       "      <td>1</td>\n",
       "      <td>4</td>\n",
       "    </tr>\n",
       "  </tbody>\n",
       "</table>\n",
       "<p>5 rows × 23 columns</p>\n",
       "</div>"
      ],
      "text/plain": [
       "   id       date  store_nbr      family  sales  onpromotion   city      state  \\\n",
       "0   0 2013-01-01          1  AUTOMOTIVE    0.0            0  Quito  Pichincha   \n",
       "1   1 2013-01-01          1   BABY CARE    0.0            0  Quito  Pichincha   \n",
       "2   2 2013-01-01          1      BEAUTY    0.0            0  Quito  Pichincha   \n",
       "3   3 2013-01-01          1   BEVERAGES    0.0            0  Quito  Pichincha   \n",
       "4   4 2013-01-01          1       BOOKS    0.0            0  Quito  Pichincha   \n",
       "\n",
       "  type_x  cluster  ...  locale_name         description transferred  \\\n",
       "0      D       13  ...      Ecuador  Primer dia del ano       False   \n",
       "1      D       13  ...      Ecuador  Primer dia del ano       False   \n",
       "2      D       13  ...      Ecuador  Primer dia del ano       False   \n",
       "3      D       13  ...      Ecuador  Primer dia del ano       False   \n",
       "4      D       13  ...      Ecuador  Primer dia del ano       False   \n",
       "\n",
       "  transactions Family_Label City_Label  State_Label  Type_x_Label  \\\n",
       "0          0.0            0         18           12             3   \n",
       "1          0.0            1         18           12             3   \n",
       "2          0.0            2         18           12             3   \n",
       "3          0.0            3         18           12             3   \n",
       "4          0.0            4         18           12             3   \n",
       "\n",
       "   Locale_Label  Locale_Name_Label  \n",
       "0             1                  4  \n",
       "1             1                  4  \n",
       "2             1                  4  \n",
       "3             1                  4  \n",
       "4             1                  4  \n",
       "\n",
       "[5 rows x 23 columns]"
      ]
     },
     "execution_count": 152,
     "metadata": {},
     "output_type": "execute_result"
    }
   ],
   "source": [
    "train.head()\n",
    "# train.to_csv('../store-sales-time-series-forecasting-data/Changed_train.csv')"
   ]
  },
  {
   "cell_type": "code",
   "execution_count": 153,
   "id": "ff1e63b9-a423-4650-9605-6026d8e5d709",
   "metadata": {},
   "outputs": [],
   "source": [
    "# Selecting features and target variable   \n",
    "features = ['store_nbr', 'Family_Label', 'City_Label', 'State_Label', 'cluster', 'onpromotion', 'dcoilwtico', 'transactions', 'Type_x_Label']\n",
    "X_train = train[features]\n",
    "y_train = train['sales']\n",
    "X_test_main = test[features]"
   ]
  },
  {
   "cell_type": "markdown",
   "id": "346d1169-c2d8-45c6-95d6-6c6cc8f61060",
   "metadata": {},
   "source": [
    "LightGBM Model"
   ]
  },
  {
   "cell_type": "code",
   "execution_count": 155,
   "id": "ea42d2b0-0bb8-48ee-b37e-b44215cf2adc",
   "metadata": {},
   "outputs": [],
   "source": [
    "# Initialize the LightGBM model\n",
    "lgb_train_data = lgb.Dataset(X_train, label=y_train)\n",
    "params = {\n",
    "    'objective': 'regression',\n",
    "    'metric': 'rmse',\n",
    "    'boosting_type': 'gbdt',\n",
    "    'num_leaves': 100,\n",
    "    'learning_rate': 0.3,\n",
    "    'verbosity': -1,\n",
    "    'random_state': 42\n",
    "}"
   ]
  },
  {
   "cell_type": "code",
   "execution_count": 156,
   "id": "43650072-4c46-4958-b6cf-ca40051a4221",
   "metadata": {},
   "outputs": [
    {
     "data": {
      "image/png": "[encoded data removed]",
      "text/plain": [
       "<Figure size 640x480 with 1 Axes>"
      ]
     },
     "metadata": {},
     "output_type": "display_data"
    },
    {
     "name": "stdout",
     "output_type": "stream",
     "text": [
      "Validation RMSE: 281.87522379278784\n"
     ]
    }
   ],
   "source": [
    "lgb_model = lgb.train(params, lgb_train_data, num_boost_round=100)\n",
    "test['sales'] = lgb_model.predict(X_test_main)\n",
    "\n",
    "# Display feature importance\n",
    "lgb.plot_importance(lgb_model, max_num_features=15, importance_type='gain')\n",
    "plt.show()\n",
    "\n",
    "# Evaluate the model on a subset of the training data (optional)\n",
    "X_train_subset, X_val, y_train_subset, y_val = train_test_split(X_train, y_train, test_size=0.2, random_state=42)\n",
    "lgb_train_data_subset = lgb.Dataset(X_train_subset, label=y_train_subset)\n",
    "lgb_val_data = lgb.Dataset(X_val, label=y_val, reference=lgb_train_data_subset)\n",
    "\n",
    "# Train the model with validation\n",
    "lgb_model = lgb.train(params, lgb_train_data_subset, num_boost_round=100, valid_sets=[lgb_train_data_subset, lgb_val_data])\n",
    "\n",
    "# Predictions on validation data\n",
    "y_val_pred = lgb_model.predict(X_val, num_iteration=lgb_model.best_iteration)\n",
    "print(f'Validation RMSE: {np.sqrt(mean_squared_error(y_val, y_val_pred))}')"
   ]
  },
  {
   "cell_type": "markdown",
   "id": "576f097a-ef8c-4f1b-ae16-ce856f647daf",
   "metadata": {},
   "source": [
    "Decision Tree"
   ]
  },
  {
   "cell_type": "code",
   "execution_count": 158,
   "id": "6e9cd90f-0cda-4ba8-ba86-eef31e0fbcae",
   "metadata": {},
   "outputs": [
    {
     "name": "stdout",
     "output_type": "stream",
     "text": [
      "Root Mean Square Error (RMSE): 536.08\n"
     ]
    }
   ],
   "source": [
    "from sklearn.tree import DecisionTreeRegressor\n",
    "\n",
    "# Create and train the model\n",
    "regressor = DecisionTreeRegressor(random_state=0)\n",
    "X_train_subset, X_test, y_train_subset, y_test = train_test_split(X_train, y_train, test_size=0.2, shuffle=False)\n",
    "\n",
    "X_train_subset = X_train_subset.dropna()\n",
    "y_train_subset = y_train_subset[X_train_subset.index]\n",
    "\n",
    "regressor.fit(X_train_subset, y_train_subset) \n",
    "\n",
    "y_pred = regressor.predict(X_test)\n",
    "\n",
    "# Calculate RMSE\n",
    "rmse = np.sqrt(mean_squared_error(y_test, y_pred))\n",
    "print(f\"Root Mean Square Error (RMSE): {rmse:.2f}\")"
   ]
  },
  {
   "cell_type": "markdown",
   "id": "33306b35-7550-4997-8ae4-ad73b7597bbc",
   "metadata": {},
   "source": [
    "Random Forest"
   ]
  },
  {
   "cell_type": "markdown",
   "id": "b9d40781-40b0-4b7a-bf2b-4d5b19a2821f",
   "metadata": {},
   "source": [
    "Version 1"
   ]
  },
  {
   "cell_type": "code",
   "execution_count": 161,
   "id": "03c1fa62-2e68-4717-8c4d-8203f3d7606a",
   "metadata": {},
   "outputs": [
    {
     "name": "stdout",
     "output_type": "stream",
     "text": [
      "Root Mean Square Error (RMSE): 1215.82\n"
     ]
    }
   ],
   "source": [
    "from sklearn.ensemble import RandomForestRegressor\n",
    "\n",
    "# Create and train the model\n",
    "regressor = RandomForestRegressor(n_estimators=100,max_depth=2, min_samples_split=10, min_samples_leaf=10, max_leaf_nodes=10, random_state=0)\n",
    "X_train_subset, X_test, y_train_subset, y_test = train_test_split(X_train, y_train, test_size=0.2, shuffle=False)\n",
    "\n",
    "X_train_subset = X_train_subset.dropna()\n",
    "y_train_subset = y_train_subset[X_train_subset.index]\n",
    "\n",
    "regressor.fit(X_train_subset, y_train_subset)\n",
    "\n",
    "# Predict\n",
    "y_pred = regressor.predict(X_test)\n",
    "\n",
    "# Calculate RMSE\n",
    "y_train_pred = regressor.predict(X_train_subset)\n",
    "rmse = np.sqrt(mean_squared_error(y_test, y_pred))\n",
    "print(f\"Root Mean Square Error (RMSE): {rmse:.2f}\")"
   ]
  },
  {
   "cell_type": "markdown",
   "id": "0b7a1653-ce33-49e3-824f-ea9dbf5e53e4",
   "metadata": {},
   "source": [
    "Version 2 (Fine-tuning the Model)"
   ]
  },
  {
   "cell_type": "code",
   "execution_count": 163,
   "id": "324ff965-201e-4e83-9fc5-dc44ff03afd6",
   "metadata": {},
   "outputs": [
    {
     "name": "stdout",
     "output_type": "stream",
     "text": [
      "Root Mean Square Error (RMSE): 1215.69\n"
     ]
    }
   ],
   "source": [
    "from sklearn.ensemble import RandomForestRegressor\n",
    "\n",
    "# Create and train the model\n",
    "regressor = RandomForestRegressor(n_estimators=50, max_depth=2, min_samples_split=10, min_samples_leaf=10, max_leaf_nodes=10, random_state=42)\n",
    "X_train_subset, X_test, y_train_subset, y_test = train_test_split(X_train, y_train, test_size=0.2, shuffle=False)\n",
    "\n",
    "X_train_subset = X_train_subset.dropna()\n",
    "y_train_subset = y_train_subset[X_train_subset.index]\n",
    "\n",
    "regressor.fit(X_train_subset, y_train_subset)\n",
    "\n",
    "# Predict\n",
    "y_pred = regressor.predict(X_test)\n",
    "\n",
    "# Calculate RMSE\n",
    "y_train_pred = regressor.predict(X_train_subset)\n",
    "rmse = np.sqrt(mean_squared_error(y_test, y_pred))\n",
    "print(f\"Root Mean Square Error (RMSE): {rmse:.2f}\")"
   ]
  },
  {
   "cell_type": "markdown",
   "id": "e017ceff-76a2-4295-a296-c2620ed429ef",
   "metadata": {},
   "source": [
    "Version 3 (Further Fine-tuning)"
   ]
  },
  {
   "cell_type": "code",
   "execution_count": 196,
   "id": "c088f4d6-f172-4eed-8e5a-008537a5f7b6",
   "metadata": {},
   "outputs": [
    {
     "name": "stdout",
     "output_type": "stream",
     "text": [
      "Root Mean Square Error (RMSE): 796.37\n"
     ]
    }
   ],
   "source": [
    "from sklearn.ensemble import RandomForestRegressor\n",
    "\n",
    "# Create and train the model\n",
    "regressor = RandomForestRegressor(n_estimators=100, max_depth=5, min_samples_split=15, min_samples_leaf=10, max_leaf_nodes=15, random_state=42)\n",
    "X_train_subset, X_test, y_train_subset, y_test = train_test_split(X_train, y_train, test_size=0.2, shuffle=False)\n",
    "\n",
    "X_train_subset = X_train_subset.dropna()\n",
    "y_train_subset = y_train_subset[X_train_subset.index]\n",
    "\n",
    "regressor.fit(X_train_subset, y_train_subset)\n",
    "\n",
    "# Predict\n",
    "y_pred = regressor.predict(X_test)\n",
    "\n",
    "# Calculate RMSE\n",
    "y_train_pred = regressor.predict(X_train_subset)\n",
    "rmse = np.sqrt(mean_squared_error(y_test, y_pred))\n",
    "print(f\"Root Mean Square Error (RMSE): {rmse:.2f}\")"
   ]
  },
  {
   "cell_type": "markdown",
   "id": "241af6d4-909d-4348-8cc2-24966b5a32e9",
   "metadata": {},
   "source": [
    "XGBoost Model"
   ]
  },
  {
   "cell_type": "code",
   "execution_count": 199,
   "id": "3cc140c9-309c-4efc-8b96-96cf7721febc",
   "metadata": {},
   "outputs": [
    {
     "data": {
      "image/png": "[encoded data removed]",
      "text/plain": [
       "<Figure size 640x480 with 1 Axes>"
      ]
     },
     "metadata": {},
     "output_type": "display_data"
    },
    {
     "name": "stdout",
     "output_type": "stream",
     "text": [
      "Root Mean Squared Error: 278.76507590693643\n"
     ]
    }
   ],
   "source": [
    "import xgboost as xgb\n",
    "\n",
    "# Define XGBoost parameters\n",
    "params = {\n",
    "    'objective': 'reg:squarederror',\n",
    "    'max_depth': 6,\n",
    "    'learning_rate': 1,\n",
    "    'n_estimators': 1000,\n",
    "    'subsample': 1,\n",
    "    'colsample_bytree': 1,\n",
    "    'reg_alpha': 0.1,\n",
    "    'reg_lambda': 1,\n",
    "    'random_state': 42\n",
    "}\n",
    "\n",
    "X_train_subset, X_test, y_train_subset, y_test = train_test_split(X_train, y_train, test_size=0.2, random_state=42)\n",
    "\n",
    "# Create and train the XGBoost model\n",
    "xgb_model = xgb.XGBRegressor(**params)\n",
    "xgb_model.fit(X_train_subset, y_train_subset)\n",
    "\n",
    "# Display feature importance\n",
    "xgb.plot_importance(xgb_model, max_num_features=15, importance_type='gain')\n",
    "plt.show()\n",
    "\n",
    "# Make predictions\n",
    "y_pred = xgb_model.predict(X_test)\n",
    "\n",
    "# Calculate RMSE\n",
    "rmse = np.sqrt(mean_squared_error(y_test, y_pred))\n",
    "print(f\"Root Mean Squared Error: {rmse}\")\n",
    "\n",
    "# Make predictions on the test set\n",
    "test['sales'] = xgb_model.predict(X_test_main)"
   ]
  },
  {
   "cell_type": "markdown",
   "id": "1a2e3f10-def6-4773-b223-811ec5732908",
   "metadata": {},
   "source": [
    "HistGradient Boosting Model"
   ]
  },
  {
   "cell_type": "code",
   "execution_count": 201,
   "id": "0f558c3d-0610-4b37-b46d-cc80c638356b",
   "metadata": {},
   "outputs": [
    {
     "name": "stdout",
     "output_type": "stream",
     "text": [
      "Root Mean Squared Error: 340.7512498059339\n"
     ]
    }
   ],
   "source": [
    "from sklearn.ensemble import HistGradientBoostingRegressor as hgbr\n",
    "\n",
    "# Split the data\n",
    "X_train_subset, X_test, y_train_subset, y_test = train_test_split(X_train, y_train, test_size=0.2, random_state=42)\n",
    "\n",
    "# Create HistGradientBoostingRegressor with custom parameters\n",
    "params = {\n",
    "    'max_iter': 100,\n",
    "    'learning_rate': 0.1,\n",
    "    'max_leaf_nodes': 31,\n",
    "    'min_samples_leaf': 20,\n",
    "    'l2_regularization': 0.0,\n",
    "    'random_state': 42\n",
    "}\n",
    "\n",
    "hist_model = hgbr(**params)\n",
    "\n",
    "# Fit the model\n",
    "hist_model.fit(X_train_subset, y_train_subset)\n",
    "\n",
    "# Make predictions\n",
    "y_pred = hist_model.predict(X_test)\n",
    "\n",
    "# Calculate RMSE\n",
    "rmse = np.sqrt(mean_squared_error(y_test, y_pred))\n",
    "print(f\"Root Mean Squared Error: {rmse}\")\n",
    "\n",
    "# Make predictions on the test set\n",
    "test['sales'] = hist_model.predict(X_test_main)"
   ]
  },
  {
   "cell_type": "markdown",
   "id": "c9f0885b-21d6-4b77-9445-da76f1c0abb5",
   "metadata": {},
   "source": [
    "CatBoost Model"
   ]
  },
  {
   "cell_type": "code",
   "execution_count": 205,
   "id": "5e7c9c77-9f46-4e0e-9a63-4c64f6718737",
   "metadata": {},
   "outputs": [
    {
     "name": "stdout",
     "output_type": "stream",
     "text": [
      "Shape of X_train: (2443478, 9)\n",
      "Shape of y_train_subset: (2443478,)\n",
      "CatBoost RMSE: 428.9647942614736\n"
     ]
    }
   ],
   "source": [
    "from catboost import CatBoostRegressor\n",
    "\n",
    "# Assuming X_train, X_test, y_train_subset, and y_test are Pandas DataFrames or Series\n",
    "# Convert Pandas DataFrames/Series to NumPy arrays\n",
    "# X_train = train[features]\n",
    "# y_train = train['sales']\n",
    "X_train_subset, X_test, y_train_subset, y_test = train_test_split(X_train, y_train, test_size=0.2, random_state=42)\n",
    "\n",
    "X_train_subset_np = X_train_subset.to_numpy()  # Use .to_numpy() for Pandas DataFrames\n",
    "X_test_np = X_test.to_numpy()\n",
    "y_train_subset_np = y_train_subset.to_numpy()\n",
    "y_test_np = y_test.to_numpy()\n",
    "\n",
    "# Ensure that y_train_subset_np has the same number of samples as X_train_np\n",
    "y_train_subset_np = y_train_subset_np[:X_train_subset_np.shape[0]]  # Trim if necessary\n",
    "\n",
    "# Check their shapes to confirm\n",
    "print(\"Shape of X_train:\", X_train_subset_np.shape)\n",
    "print(\"Shape of y_train_subset:\", y_train_subset_np.shape)\n",
    "\n",
    "# Define CatBoost model with missing value handling\n",
    "cat_model = CatBoostRegressor(\n",
    "    iterations=100,\n",
    "    learning_rate=0.1,\n",
    "    depth=5,\n",
    "    loss_function='RMSE',\n",
    "    verbose=0\n",
    ")\n",
    "\n",
    "# Fit the model and make predictions\n",
    "cat_model.fit(X_train_subset_np, y_train_subset_np)  # CatBoost handles nulls automatically\n",
    "y_pred_cat = cat_model.predict(X_test_np)\n",
    "\n",
    "# Calculate RMSE\n",
    "rmse_cat = np.sqrt(mean_squared_error(y_test_np, y_pred_cat))\n",
    "print(f\"CatBoost RMSE: {rmse_cat}\")"
   ]
  },
  {
   "cell_type": "code",
   "execution_count": null,
   "id": "3aab9a3a-7406-4e7e-928a-2910b58557c5",
   "metadata": {},
   "outputs": [],
   "source": []
  }
 ],
 "metadata": {
  "kernelspec": {
   "display_name": "Python 3 (ipykernel)",
   "language": "python",
   "name": "python3"
  },
  "language_info": {
   "codemirror_mode": {
    "name": "ipython",
    "version": 3
   },
   "file_extension": ".py",
   "mimetype": "text/x-python",
   "name": "python",
   "nbconvert_exporter": "python",
   "pygments_lexer": "ipython3",
   "version": "3.12.3"
  }
 },
 "nbformat": 4,
 "nbformat_minor": 5
}
